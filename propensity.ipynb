{
 "cells": [
  {
   "cell_type": "code",
   "execution_count": 2,
   "metadata": {},
   "outputs": [],
   "source": [
    "import numpy as np\n",
    "from sklearn.externals import joblib\n",
    "model = joblib.load('mypropensity')"
   ]
  },
  {
   "cell_type": "code",
   "execution_count": 1,
   "metadata": {},
   "outputs": [
    {
     "name": "stdout",
     "output_type": "stream",
     "text": [
      "Requirement already satisfied: flask_ngrok in e:\\anaconda\\lib\\site-packages (0.0.25)\n",
      "Requirement already satisfied: requests in e:\\anaconda\\lib\\site-packages (from flask_ngrok) (2.21.0)\n",
      "Requirement already satisfied: Flask>=0.8 in e:\\anaconda\\lib\\site-packages (from flask_ngrok) (1.0.2)\n",
      "Requirement already satisfied: urllib3<1.25,>=1.21.1 in e:\\anaconda\\lib\\site-packages (from requests->flask_ngrok) (1.24.1)\n",
      "Requirement already satisfied: idna<2.9,>=2.5 in e:\\anaconda\\lib\\site-packages (from requests->flask_ngrok) (2.8)\n",
      "Requirement already satisfied: chardet<3.1.0,>=3.0.2 in e:\\anaconda\\lib\\site-packages (from requests->flask_ngrok) (3.0.4)\n",
      "Requirement already satisfied: certifi>=2017.4.17 in e:\\anaconda\\lib\\site-packages (from requests->flask_ngrok) (2018.11.29)\n",
      "Requirement already satisfied: itsdangerous>=0.24 in e:\\anaconda\\lib\\site-packages (from Flask>=0.8->flask_ngrok) (1.1.0)\n",
      "Requirement already satisfied: click>=5.1 in e:\\anaconda\\lib\\site-packages (from Flask>=0.8->flask_ngrok) (7.0)\n",
      "Requirement already satisfied: Werkzeug>=0.14 in e:\\anaconda\\lib\\site-packages (from Flask>=0.8->flask_ngrok) (0.14.1)\n",
      "Requirement already satisfied: Jinja2>=2.10 in e:\\anaconda\\lib\\site-packages (from Flask>=0.8->flask_ngrok) (2.10)\n",
      "Requirement already satisfied: MarkupSafe>=0.23 in e:\\anaconda\\lib\\site-packages (from Jinja2>=2.10->Flask>=0.8->flask_ngrok) (1.1.0)\n"
     ]
    },
    {
     "name": "stderr",
     "output_type": "stream",
     "text": [
      "WARNING: You are using pip version 20.0.2; however, version 20.1.1 is available.\n",
      "You should consider upgrading via the 'e:\\anaconda\\python.exe -m pip install --upgrade pip' command.\n"
     ]
    }
   ],
   "source": [
    "!pip install flask_ngrok"
   ]
  },
  {
   "cell_type": "code",
   "execution_count": 5,
   "metadata": {},
   "outputs": [
    {
     "name": "stdout",
     "output_type": "stream",
     "text": [
      " * Serving Flask app \"__main__\" (lazy loading)\n",
      " * Environment: production\n",
      "   WARNING: Do not use the development server in a production environment.\n",
      "   Use a production WSGI server instead.\n",
      " * Debug mode: off\n"
     ]
    },
    {
     "name": "stderr",
     "output_type": "stream",
     "text": [
      " * Running on http://127.0.0.1:5000/ (Press CTRL+C to quit)\n",
      "127.0.0.1 - - [03/Jun/2020 09:27:00] \"\u001b[37mGET / HTTP/1.1\u001b[0m\" 200 -\n"
     ]
    },
    {
     "name": "stdout",
     "output_type": "stream",
     "text": [
      " * Running on http://640892315525.ngrok.io\n",
      " * Traffic stats available on http://127.0.0.1:4040\n"
     ]
    },
    {
     "name": "stderr",
     "output_type": "stream",
     "text": [
      "127.0.0.1 - - [03/Jun/2020 09:27:04] \"\u001b[37mPOST / HTTP/1.1\u001b[0m\" 200 -\n"
     ]
    }
   ],
   "source": [
    "from flask_ngrok import run_with_ngrok\n",
    "import flask\n",
    "app = flask.Flask(__name__, template_folder='')\n",
    "run_with_ngrok(app)\n",
    "@app.route('/', methods=['GET', 'POST'])\n",
    "def main():\n",
    "    if flask.request.method == 'GET':\n",
    "        return(flask.render_template('index.html'))\n",
    "    if flask.request.method == 'POST':\n",
    "        x = np.random.randint(0,2,22)\n",
    "        x = x.reshape(1,-1)\n",
    "        prediction = str(model.predict(x))\n",
    "        final = ''.join(e for e in prediction if e.isalnum())\n",
    "        d = {'0':'Unordered','1':'Ordered'}\n",
    "        prop = [d[x] for x in final]\n",
    "        proper = ''.join(e for e in prop if e.isalnum())\n",
    "        return flask.render_template('index.html', result=proper)\n",
    "if __name__ == '__main__':\n",
    "    app.run()"
   ]
  },
  {
   "cell_type": "code",
   "execution_count": null,
   "metadata": {},
   "outputs": [],
   "source": []
  }
 ],
 "metadata": {
  "kernelspec": {
   "display_name": "Python 3",
   "language": "python",
   "name": "python3"
  },
  "language_info": {
   "codemirror_mode": {
    "name": "ipython",
    "version": 3
   },
   "file_extension": ".py",
   "mimetype": "text/x-python",
   "name": "python",
   "nbconvert_exporter": "python",
   "pygments_lexer": "ipython3",
   "version": "3.7.1"
  }
 },
 "nbformat": 4,
 "nbformat_minor": 2
}
